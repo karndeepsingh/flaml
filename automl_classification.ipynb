{
  "cells": [
    {
      "cell_type": "markdown",
      "metadata": {
        "id": "SAM_iz4ktQeO"
      },
      "source": [
        "\n",
        "# AutoML with FLAML Library\n",
        "\n",
        "\n",
        "## 1. Introduction\n",
        "\n",
        "FLAML is a Python library (https://github.com/microsoft/FLAML) designed to automatically produce accurate machine learning models \n",
        "with low computational cost. It is fast and cheap. The simple and lightweight design makes it easy to use and extend, such as adding new learners. FLAML can \n",
        "- serve as an economical AutoML engine,\n",
        "- be used as a fast hyperparameter tuning tool, or \n",
        "- be embedded in self-tuning software that requires low latency & resource in repetitive\n",
        "   tuning tasks.\n",
        "\n",
        "In this notebook, we use one real data example (binary classification) to showcase how to use FLAML library.\n",
        "\n",
        "FLAML requires `Python>=3.6`. To run this notebook example, please install flaml with the `notebook` option:\n",
        "```bash\n",
        "pip install flaml[notebook]\n",
        "```"
      ]
    },
    {
      "cell_type": "code",
      "execution_count": null,
      "metadata": {
        "id": "Cpgx57O_tQeT"
      },
      "outputs": [],
      "source": [
        "!pip install flaml[notebook];\n",
        "# from v0.6.6, catboost is made an optional dependency to build conda package.\n",
        "# to install catboost without installing the notebook option, you can run:\n",
        "# !pip install flaml[catboost]"
      ]
    },
    {
      "cell_type": "markdown",
      "metadata": {
        "id": "-yfp58RntQeV"
      },
      "source": [
        "## 2. Classification Example\n",
        "### Load data and preprocess\n",
        "\n",
        "Download [Airlines dataset](https://www.openml.org/d/1169) from OpenML. The task is to predict whether a given flight will be delayed, given the information of the scheduled departure."
      ]
    },
    {
      "cell_type": "code",
      "execution_count": 16,
      "metadata": {
        "tags": [],
        "id": "50sxmHwotQeV",
        "outputId": "792be03b-a566-4a3f-ee6e-5994f9149208",
        "colab": {
          "base_uri": "https://localhost:8080/"
        }
      },
      "outputs": [
        {
          "output_type": "stream",
          "name": "stdout",
          "text": [
            "load dataset from ./openml_ds1169.pkl\n",
            "Dataset name: airlines\n",
            "X_train.shape: (404537, 7), y_train.shape: (404537,);\n",
            "X_test.shape: (134846, 7), y_test.shape: (134846,)\n"
          ]
        }
      ],
      "source": [
        "from flaml.data import load_openml_dataset\n",
        "X_train, X_test, y_train, y_test = load_openml_dataset(dataset_id=1169, data_dir='./')"
      ]
    },
    {
      "cell_type": "markdown",
      "metadata": {
        "id": "3KXzN4N7tQeW"
      },
      "source": [
        "### Run FLAML\n",
        "In the FLAML automl run configuration, users can specify the task type, time budget, error metric, learner list, whether to subsample, resampling strategy type, and so on. All these arguments have default values which will be used if users do not provide them. For example, the default classifiers are `['lgbm', 'xgboost', 'xgb_limitdepth', 'catboost', 'rf', 'extra_tree', 'lrl1']`. "
      ]
    },
    {
      "cell_type": "code",
      "execution_count": 17,
      "metadata": {
        "id": "jOJyNb_btQeW"
      },
      "outputs": [],
      "source": [
        "''' import AutoML class from flaml package '''\n",
        "from flaml import AutoML\n",
        "automl = AutoML()"
      ]
    },
    {
      "cell_type": "code",
      "execution_count": 18,
      "metadata": {
        "id": "FQkelo6qtQeX"
      },
      "outputs": [],
      "source": [
        "settings = {\n",
        "    \"time_budget\": 240,  # total running time in seconds\n",
        "    \"metric\": 'accuracy',  # can be: 'r2', 'rmse', 'mae', 'mse', 'accuracy', 'roc_auc', 'roc_auc_ovr',\n",
        "                           # 'roc_auc_ovo', 'log_loss', 'mape', 'f1', 'ap', 'ndcg', 'micro_f1', 'macro_f1'\n",
        "    \"task\": 'classification',  # task type\n",
        "    \"log_file_name\": 'airlines_experiment.log',  # flaml log file\n",
        "    \"seed\": 7654321,    # random seed\n",
        "}"
      ]
    },
    {
      "cell_type": "code",
      "execution_count": 19,
      "metadata": {
        "tags": [
          "outputPrepend"
        ],
        "id": "6t1ImzOEtQeY",
        "outputId": "40080a5f-e38e-4b1b-a82e-65a5fb34def5",
        "colab": {
          "base_uri": "https://localhost:8080/"
        }
      },
      "outputs": [
        {
          "output_type": "stream",
          "name": "stderr",
          "text": [
            "[flaml.automl: 01-08 13:24:51] {2015} INFO - task = classification\n",
            "[flaml.automl: 01-08 13:24:51] {2017} INFO - Data split method: stratified\n",
            "[flaml.automl: 01-08 13:24:51] {2021} INFO - Evaluation method: holdout\n",
            "[flaml.automl: 01-08 13:24:52] {2120} INFO - Minimizing error metric: 1-accuracy\n",
            "[flaml.automl: 01-08 13:24:52] {2176} INFO - List of ML learners in AutoML Run: ['lgbm', 'rf', 'catboost', 'xgboost', 'extra_tree', 'xgb_limitdepth', 'lrl1']\n",
            "[flaml.automl: 01-08 13:24:52] {2433} INFO - iteration 0, current learner lgbm\n",
            "[flaml.automl: 01-08 13:24:52] {2547} INFO - Estimated sufficient time budget=24097s. Estimated necessary time budget=592s.\n",
            "[flaml.automl: 01-08 13:24:52] {2598} INFO -  at 1.1s,\testimator lgbm's best error=0.3777,\tbest estimator lgbm's best error=0.3777\n",
            "[flaml.automl: 01-08 13:24:52] {2433} INFO - iteration 1, current learner lgbm\n",
            "[flaml.automl: 01-08 13:24:52] {2598} INFO -  at 1.2s,\testimator lgbm's best error=0.3777,\tbest estimator lgbm's best error=0.3777\n",
            "[flaml.automl: 01-08 13:24:52] {2433} INFO - iteration 2, current learner lgbm\n",
            "[flaml.automl: 01-08 13:24:52] {2598} INFO -  at 1.3s,\testimator lgbm's best error=0.3614,\tbest estimator lgbm's best error=0.3614\n",
            "[flaml.automl: 01-08 13:24:52] {2433} INFO - iteration 3, current learner xgboost\n",
            "[flaml.automl: 01-08 13:24:52] {2598} INFO -  at 1.4s,\testimator xgboost's best error=0.3768,\tbest estimator lgbm's best error=0.3614\n",
            "[flaml.automl: 01-08 13:24:52] {2433} INFO - iteration 4, current learner lgbm\n",
            "[flaml.automl: 01-08 13:24:52] {2598} INFO -  at 1.6s,\testimator lgbm's best error=0.3614,\tbest estimator lgbm's best error=0.3614\n",
            "[flaml.automl: 01-08 13:24:52] {2433} INFO - iteration 5, current learner lgbm\n",
            "[flaml.automl: 01-08 13:24:53] {2598} INFO -  at 1.7s,\testimator lgbm's best error=0.3614,\tbest estimator lgbm's best error=0.3614\n",
            "[flaml.automl: 01-08 13:24:53] {2433} INFO - iteration 6, current learner lgbm\n",
            "[flaml.automl: 01-08 13:24:53] {2598} INFO -  at 1.9s,\testimator lgbm's best error=0.3614,\tbest estimator lgbm's best error=0.3614\n",
            "[flaml.automl: 01-08 13:24:53] {2433} INFO - iteration 7, current learner lgbm\n",
            "[flaml.automl: 01-08 13:24:53] {2598} INFO -  at 2.1s,\testimator lgbm's best error=0.3614,\tbest estimator lgbm's best error=0.3614\n",
            "[flaml.automl: 01-08 13:24:53] {2433} INFO - iteration 8, current learner xgboost\n",
            "[flaml.automl: 01-08 13:24:53] {2598} INFO -  at 2.2s,\testimator xgboost's best error=0.3768,\tbest estimator lgbm's best error=0.3614\n",
            "[flaml.automl: 01-08 13:24:53] {2433} INFO - iteration 9, current learner xgboost\n",
            "[flaml.automl: 01-08 13:24:53] {2598} INFO -  at 2.4s,\testimator xgboost's best error=0.3622,\tbest estimator lgbm's best error=0.3614\n",
            "[flaml.automl: 01-08 13:24:53] {2433} INFO - iteration 10, current learner extra_tree\n",
            "[flaml.automl: 01-08 13:24:54] {2598} INFO -  at 2.8s,\testimator extra_tree's best error=0.3767,\tbest estimator lgbm's best error=0.3614\n",
            "[flaml.automl: 01-08 13:24:54] {2433} INFO - iteration 11, current learner rf\n",
            "[flaml.automl: 01-08 13:24:54] {2598} INFO -  at 3.2s,\testimator rf's best error=0.3787,\tbest estimator lgbm's best error=0.3614\n",
            "[flaml.automl: 01-08 13:24:54] {2433} INFO - iteration 12, current learner rf\n",
            "[flaml.automl: 01-08 13:24:54] {2598} INFO -  at 3.5s,\testimator rf's best error=0.3787,\tbest estimator lgbm's best error=0.3614\n",
            "[flaml.automl: 01-08 13:24:54] {2433} INFO - iteration 13, current learner xgboost\n",
            "[flaml.automl: 01-08 13:24:55] {2598} INFO -  at 4.1s,\testimator xgboost's best error=0.3606,\tbest estimator xgboost's best error=0.3606\n",
            "[flaml.automl: 01-08 13:24:55] {2433} INFO - iteration 14, current learner xgboost\n",
            "[flaml.automl: 01-08 13:24:55] {2598} INFO -  at 4.3s,\testimator xgboost's best error=0.3605,\tbest estimator xgboost's best error=0.3605\n",
            "[flaml.automl: 01-08 13:24:55] {2433} INFO - iteration 15, current learner xgboost\n",
            "[flaml.automl: 01-08 13:24:55] {2598} INFO -  at 4.5s,\testimator xgboost's best error=0.3605,\tbest estimator xgboost's best error=0.3605\n",
            "[flaml.automl: 01-08 13:24:55] {2433} INFO - iteration 16, current learner lgbm\n",
            "[flaml.automl: 01-08 13:24:55] {2598} INFO -  at 4.6s,\testimator lgbm's best error=0.3614,\tbest estimator xgboost's best error=0.3605\n",
            "[flaml.automl: 01-08 13:24:55] {2433} INFO - iteration 17, current learner extra_tree\n",
            "[flaml.automl: 01-08 13:24:56] {2598} INFO -  at 5.0s,\testimator extra_tree's best error=0.3758,\tbest estimator xgboost's best error=0.3605\n",
            "[flaml.automl: 01-08 13:24:56] {2433} INFO - iteration 18, current learner lgbm\n",
            "[flaml.automl: 01-08 13:24:56] {2598} INFO -  at 5.3s,\testimator lgbm's best error=0.3550,\tbest estimator lgbm's best error=0.3550\n",
            "[flaml.automl: 01-08 13:24:56] {2433} INFO - iteration 19, current learner catboost\n",
            "[flaml.automl: 01-08 13:24:57] {2598} INFO -  at 6.6s,\testimator catboost's best error=0.3587,\tbest estimator lgbm's best error=0.3550\n",
            "[flaml.automl: 01-08 13:24:57] {2433} INFO - iteration 20, current learner catboost\n",
            "[flaml.automl: 01-08 13:24:58] {2598} INFO -  at 7.0s,\testimator catboost's best error=0.3587,\tbest estimator lgbm's best error=0.3550\n",
            "[flaml.automl: 01-08 13:24:58] {2433} INFO - iteration 21, current learner lgbm\n",
            "[flaml.automl: 01-08 13:24:58] {2598} INFO -  at 7.2s,\testimator lgbm's best error=0.3550,\tbest estimator lgbm's best error=0.3550\n",
            "[flaml.automl: 01-08 13:24:58] {2433} INFO - iteration 22, current learner catboost\n",
            "[flaml.automl: 01-08 13:25:00] {2598} INFO -  at 9.0s,\testimator catboost's best error=0.3587,\tbest estimator lgbm's best error=0.3550\n",
            "[flaml.automl: 01-08 13:25:00] {2433} INFO - iteration 23, current learner lgbm\n",
            "[flaml.automl: 01-08 13:25:00] {2598} INFO -  at 9.6s,\testimator lgbm's best error=0.3545,\tbest estimator lgbm's best error=0.3545\n",
            "[flaml.automl: 01-08 13:25:00] {2433} INFO - iteration 24, current learner lgbm\n",
            "[flaml.automl: 01-08 13:25:01] {2598} INFO -  at 10.0s,\testimator lgbm's best error=0.3545,\tbest estimator lgbm's best error=0.3545\n",
            "[flaml.automl: 01-08 13:25:01] {2433} INFO - iteration 25, current learner catboost\n",
            "[flaml.automl: 01-08 13:25:04] {2598} INFO -  at 13.3s,\testimator catboost's best error=0.3587,\tbest estimator lgbm's best error=0.3545\n",
            "[flaml.automl: 01-08 13:25:04] {2433} INFO - iteration 26, current learner extra_tree\n",
            "[flaml.automl: 01-08 13:25:05] {2598} INFO -  at 13.8s,\testimator extra_tree's best error=0.3758,\tbest estimator lgbm's best error=0.3545\n",
            "[flaml.automl: 01-08 13:25:05] {2433} INFO - iteration 27, current learner lgbm\n",
            "[flaml.automl: 01-08 13:25:06] {2598} INFO -  at 14.9s,\testimator lgbm's best error=0.3545,\tbest estimator lgbm's best error=0.3545\n",
            "[flaml.automl: 01-08 13:25:06] {2433} INFO - iteration 28, current learner lgbm\n",
            "[flaml.automl: 01-08 13:25:06] {2598} INFO -  at 15.2s,\testimator lgbm's best error=0.3536,\tbest estimator lgbm's best error=0.3536\n",
            "[flaml.automl: 01-08 13:25:06] {2433} INFO - iteration 29, current learner catboost\n",
            "[flaml.automl: 01-08 13:25:11] {2598} INFO -  at 20.5s,\testimator catboost's best error=0.3499,\tbest estimator catboost's best error=0.3499\n",
            "[flaml.automl: 01-08 13:25:11] {2433} INFO - iteration 30, current learner xgb_limitdepth\n",
            "[flaml.automl: 01-08 13:25:12] {2598} INFO -  at 20.8s,\testimator xgb_limitdepth's best error=0.3630,\tbest estimator catboost's best error=0.3499\n",
            "[flaml.automl: 01-08 13:25:12] {2433} INFO - iteration 31, current learner xgb_limitdepth\n",
            "[flaml.automl: 01-08 13:25:12] {2598} INFO -  at 20.9s,\testimator xgb_limitdepth's best error=0.3630,\tbest estimator catboost's best error=0.3499\n",
            "[flaml.automl: 01-08 13:25:12] {2433} INFO - iteration 32, current learner xgb_limitdepth\n",
            "[flaml.automl: 01-08 13:25:13] {2598} INFO -  at 21.7s,\testimator xgb_limitdepth's best error=0.3630,\tbest estimator catboost's best error=0.3499\n",
            "[flaml.automl: 01-08 13:25:13] {2433} INFO - iteration 33, current learner lgbm\n",
            "[flaml.automl: 01-08 13:25:13] {2598} INFO -  at 22.3s,\testimator lgbm's best error=0.3536,\tbest estimator catboost's best error=0.3499\n",
            "[flaml.automl: 01-08 13:25:13] {2433} INFO - iteration 34, current learner xgb_limitdepth\n",
            "[flaml.automl: 01-08 13:25:14] {2598} INFO -  at 22.9s,\testimator xgb_limitdepth's best error=0.3630,\tbest estimator catboost's best error=0.3499\n",
            "[flaml.automl: 01-08 13:25:14] {2433} INFO - iteration 35, current learner xgb_limitdepth\n",
            "[flaml.automl: 01-08 13:25:15] {2598} INFO -  at 23.7s,\testimator xgb_limitdepth's best error=0.3572,\tbest estimator catboost's best error=0.3499\n",
            "[flaml.automl: 01-08 13:25:15] {2433} INFO - iteration 36, current learner lgbm\n",
            "[flaml.automl: 01-08 13:25:16] {2598} INFO -  at 24.8s,\testimator lgbm's best error=0.3536,\tbest estimator catboost's best error=0.3499\n",
            "[flaml.automl: 01-08 13:25:16] {2433} INFO - iteration 37, current learner xgboost\n",
            "[flaml.automl: 01-08 13:25:16] {2598} INFO -  at 25.1s,\testimator xgboost's best error=0.3605,\tbest estimator catboost's best error=0.3499\n",
            "[flaml.automl: 01-08 13:25:16] {2433} INFO - iteration 38, current learner xgb_limitdepth\n",
            "[flaml.automl: 01-08 13:25:16] {2598} INFO -  at 25.5s,\testimator xgb_limitdepth's best error=0.3572,\tbest estimator catboost's best error=0.3499\n",
            "[flaml.automl: 01-08 13:25:16] {2433} INFO - iteration 39, current learner xgb_limitdepth\n",
            "[flaml.automl: 01-08 13:25:17] {2598} INFO -  at 26.6s,\testimator xgb_limitdepth's best error=0.3572,\tbest estimator catboost's best error=0.3499\n",
            "[flaml.automl: 01-08 13:25:17] {2433} INFO - iteration 40, current learner xgb_limitdepth\n",
            "[flaml.automl: 01-08 13:25:18] {2598} INFO -  at 27.0s,\testimator xgb_limitdepth's best error=0.3572,\tbest estimator catboost's best error=0.3499\n",
            "[flaml.automl: 01-08 13:25:18] {2433} INFO - iteration 41, current learner catboost\n",
            "[flaml.automl: 01-08 13:25:21] {2598} INFO -  at 30.1s,\testimator catboost's best error=0.3481,\tbest estimator catboost's best error=0.3481\n",
            "[flaml.automl: 01-08 13:25:21] {2433} INFO - iteration 42, current learner catboost\n",
            "[flaml.automl: 01-08 13:25:33] {2598} INFO -  at 41.7s,\testimator catboost's best error=0.3481,\tbest estimator catboost's best error=0.3481\n",
            "[flaml.automl: 01-08 13:25:33] {2433} INFO - iteration 43, current learner lrl1\n",
            "/usr/local/lib/python3.7/dist-packages/sklearn/linear_model/_sag.py:354: ConvergenceWarning: The max_iter was reached which means the coef_ did not converge\n",
            "  ConvergenceWarning,\n",
            "[flaml.automl: 01-08 13:25:33] {2598} INFO -  at 42.0s,\testimator lrl1's best error=0.4338,\tbest estimator catboost's best error=0.3481\n",
            "[flaml.automl: 01-08 13:25:33] {2433} INFO - iteration 44, current learner lrl1\n",
            "/usr/local/lib/python3.7/dist-packages/sklearn/linear_model/_sag.py:354: ConvergenceWarning: The max_iter was reached which means the coef_ did not converge\n",
            "  ConvergenceWarning,\n",
            "[flaml.automl: 01-08 13:25:33] {2598} INFO -  at 42.4s,\testimator lrl1's best error=0.4338,\tbest estimator catboost's best error=0.3481\n",
            "[flaml.automl: 01-08 13:25:33] {2433} INFO - iteration 45, current learner lgbm\n",
            "[flaml.automl: 01-08 13:25:35] {2598} INFO -  at 44.5s,\testimator lgbm's best error=0.3528,\tbest estimator catboost's best error=0.3481\n",
            "[flaml.automl: 01-08 13:25:35] {2433} INFO - iteration 46, current learner xgb_limitdepth\n",
            "[flaml.automl: 01-08 13:25:37] {2598} INFO -  at 46.0s,\testimator xgb_limitdepth's best error=0.3572,\tbest estimator catboost's best error=0.3481\n",
            "[flaml.automl: 01-08 13:25:37] {2433} INFO - iteration 47, current learner xgb_limitdepth\n",
            "[flaml.automl: 01-08 13:25:44] {2598} INFO -  at 53.1s,\testimator xgb_limitdepth's best error=0.3532,\tbest estimator catboost's best error=0.3481\n",
            "[flaml.automl: 01-08 13:25:44] {2433} INFO - iteration 48, current learner extra_tree\n",
            "[flaml.automl: 01-08 13:25:44] {2598} INFO -  at 53.5s,\testimator extra_tree's best error=0.3758,\tbest estimator catboost's best error=0.3481\n",
            "[flaml.automl: 01-08 13:25:44] {2433} INFO - iteration 49, current learner catboost\n",
            "[flaml.automl: 01-08 13:26:10] {2598} INFO -  at 78.7s,\testimator catboost's best error=0.3384,\tbest estimator catboost's best error=0.3384\n",
            "[flaml.automl: 01-08 13:26:10] {2433} INFO - iteration 50, current learner extra_tree\n",
            "[flaml.automl: 01-08 13:26:10] {2598} INFO -  at 79.2s,\testimator extra_tree's best error=0.3758,\tbest estimator catboost's best error=0.3384\n",
            "[flaml.automl: 01-08 13:26:10] {2433} INFO - iteration 51, current learner lgbm\n",
            "[flaml.automl: 01-08 13:26:17] {2598} INFO -  at 85.7s,\testimator lgbm's best error=0.3405,\tbest estimator catboost's best error=0.3384\n",
            "[flaml.automl: 01-08 13:26:17] {2433} INFO - iteration 52, current learner lgbm\n",
            "[flaml.automl: 01-08 13:26:19] {2598} INFO -  at 87.7s,\testimator lgbm's best error=0.3405,\tbest estimator catboost's best error=0.3384\n",
            "[flaml.automl: 01-08 13:26:19] {2433} INFO - iteration 53, current learner extra_tree\n",
            "[flaml.automl: 01-08 13:26:19] {2598} INFO -  at 88.2s,\testimator extra_tree's best error=0.3758,\tbest estimator catboost's best error=0.3384\n",
            "[flaml.automl: 01-08 13:26:19] {2433} INFO - iteration 54, current learner lgbm\n",
            "[flaml.automl: 01-08 13:26:25] {2598} INFO -  at 94.1s,\testimator lgbm's best error=0.3370,\tbest estimator lgbm's best error=0.3370\n",
            "[flaml.automl: 01-08 13:26:25] {2433} INFO - iteration 55, current learner lgbm\n",
            "[flaml.automl: 01-08 13:26:31] {2598} INFO -  at 100.5s,\testimator lgbm's best error=0.3370,\tbest estimator lgbm's best error=0.3370\n",
            "[flaml.automl: 01-08 13:26:31] {2433} INFO - iteration 56, current learner lgbm\n",
            "[flaml.automl: 01-08 13:26:36] {2598} INFO -  at 105.6s,\testimator lgbm's best error=0.3370,\tbest estimator lgbm's best error=0.3370\n",
            "[flaml.automl: 01-08 13:26:36] {2433} INFO - iteration 57, current learner lgbm\n",
            "[flaml.automl: 01-08 13:26:44] {2598} INFO -  at 113.1s,\testimator lgbm's best error=0.3318,\tbest estimator lgbm's best error=0.3318\n",
            "[flaml.automl: 01-08 13:26:44] {2433} INFO - iteration 58, current learner catboost\n",
            "[flaml.automl: 01-08 13:28:50] {2598} INFO -  at 239.5s,\testimator catboost's best error=0.3384,\tbest estimator lgbm's best error=0.3318\n",
            "[flaml.automl: 01-08 13:28:50] {2433} INFO - iteration 59, current learner rf\n",
            "[flaml.automl: 01-08 13:28:51] {2598} INFO -  at 239.7s,\testimator rf's best error=0.3787,\tbest estimator lgbm's best error=0.3318\n",
            "[flaml.automl: 01-08 13:28:51] {2433} INFO - iteration 60, current learner xgboost\n",
            "[flaml.automl: 01-08 13:28:51] {2598} INFO -  at 239.7s,\testimator xgboost's best error=0.3605,\tbest estimator lgbm's best error=0.3318\n",
            "[flaml.automl: 01-08 13:28:51] {2433} INFO - iteration 61, current learner xgboost\n",
            "[flaml.automl: 01-08 13:28:51] {2598} INFO -  at 239.8s,\testimator xgboost's best error=0.3605,\tbest estimator lgbm's best error=0.3318\n",
            "[flaml.automl: 01-08 13:28:59] {2811} INFO - retrain lgbm for 8.1s\n",
            "[flaml.automl: 01-08 13:28:59] {2816} INFO - retrained model: LGBMClassifier(colsample_bytree=0.9661606582789269,\n",
            "               learning_rate=0.34506374431782694, max_bin=255,\n",
            "               min_child_samples=57, n_estimators=284, num_leaves=24,\n",
            "               reg_alpha=0.05708594148438563, reg_lambda=3.0806435484123478,\n",
            "               verbose=-1)\n",
            "[flaml.automl: 01-08 13:28:59] {2205} INFO - fit succeeded\n",
            "[flaml.automl: 01-08 13:28:59] {2207} INFO - Time taken to find the best model: 113.06641268730164\n"
          ]
        }
      ],
      "source": [
        "'''The main flaml automl API'''\n",
        "automl.fit(X_train=X_train, y_train=y_train, **settings)"
      ]
    },
    {
      "cell_type": "markdown",
      "metadata": {
        "id": "JXJbho0stQeY"
      },
      "source": [
        "### Best model and metric"
      ]
    },
    {
      "cell_type": "code",
      "execution_count": 20,
      "metadata": {
        "tags": [],
        "id": "RjzE7Oc4tQeZ",
        "outputId": "8d243b66-1782-443e-f44f-20b38cae38f0",
        "colab": {
          "base_uri": "https://localhost:8080/"
        }
      },
      "outputs": [
        {
          "output_type": "stream",
          "name": "stdout",
          "text": [
            "Best ML leaner: lgbm\n",
            "Best hyperparmeter config: {'n_estimators': 284, 'num_leaves': 24, 'min_child_samples': 57, 'learning_rate': 0.34506374431782694, 'log_max_bin': 8, 'colsample_bytree': 0.9661606582789269, 'reg_alpha': 0.05708594148438563, 'reg_lambda': 3.0806435484123478, 'FLAML_sample_size': 364083}\n",
            "Best accuracy on validation data: 0.6682\n",
            "Training duration of best run: 8.115 s\n"
          ]
        }
      ],
      "source": [
        "'''retrieve best config and best learner'''\n",
        "print('Best ML leaner:', automl.best_estimator)\n",
        "print('Best hyperparmeter config:', automl.best_config)\n",
        "print('Best accuracy on validation data: {0:.4g}'.format(1-automl.best_loss))\n",
        "print('Training duration of best run: {0:.4g} s'.format(automl.best_config_train_time))"
      ]
    },
    {
      "cell_type": "code",
      "execution_count": 21,
      "metadata": {
        "id": "9TenNnErtQea",
        "outputId": "2a907252-7612-4e9a-c57f-139fba9af83a",
        "colab": {
          "base_uri": "https://localhost:8080/"
        }
      },
      "outputs": [
        {
          "output_type": "execute_result",
          "data": {
            "text/plain": [
              "LGBMClassifier(colsample_bytree=0.9661606582789269,\n",
              "               learning_rate=0.34506374431782694, max_bin=255,\n",
              "               min_child_samples=57, n_estimators=284, num_leaves=24,\n",
              "               reg_alpha=0.05708594148438563, reg_lambda=3.0806435484123478,\n",
              "               verbose=-1)"
            ]
          },
          "metadata": {},
          "execution_count": 21
        }
      ],
      "source": [
        "automl.model.estimator"
      ]
    },
    {
      "cell_type": "code",
      "execution_count": 22,
      "metadata": {
        "id": "G_9gTb9EtQea"
      },
      "outputs": [],
      "source": [
        "'''pickle and save the automl object'''\n",
        "import pickle\n",
        "with open('automl.pkl', 'wb') as f:\n",
        "    pickle.dump(automl, f, pickle.HIGHEST_PROTOCOL)\n",
        "'''load pickled automl object'''\n",
        "with open('automl.pkl', 'rb') as f:\n",
        "    automl = pickle.load(f)"
      ]
    },
    {
      "cell_type": "code",
      "execution_count": 23,
      "metadata": {
        "tags": [],
        "id": "rgWA4q6EtQeb",
        "outputId": "aa417624-593c-453d-a932-f72dbfc1541d",
        "colab": {
          "base_uri": "https://localhost:8080/"
        }
      },
      "outputs": [
        {
          "output_type": "stream",
          "name": "stdout",
          "text": [
            "Predicted labels ['1' '0' '1' ... '1' '0' '0']\n",
            "True labels 118331    0\n",
            "328182    0\n",
            "335454    0\n",
            "520591    1\n",
            "344651    0\n",
            "         ..\n",
            "367080    0\n",
            "203510    1\n",
            "254894    0\n",
            "296512    1\n",
            "362444    0\n",
            "Name: Delay, Length: 134846, dtype: category\n",
            "Categories (2, object): ['0' < '1']\n"
          ]
        }
      ],
      "source": [
        "'''compute predictions of testing dataset''' \n",
        "y_pred = automl.predict(X_test)\n",
        "print('Predicted labels', y_pred)\n",
        "print('True labels', y_test)\n",
        "y_pred_proba = automl.predict_proba(X_test)[:,1]"
      ]
    },
    {
      "cell_type": "code",
      "execution_count": 24,
      "metadata": {
        "tags": [],
        "id": "HUWzH1EXtQeb",
        "outputId": "56ba2d2c-0777-41ad-a69a-0dbe884077da",
        "colab": {
          "base_uri": "https://localhost:8080/"
        }
      },
      "outputs": [
        {
          "output_type": "stream",
          "name": "stdout",
          "text": [
            "accuracy = 0.6700903252599262\n",
            "roc_auc = 0.722014595363685\n",
            "log_loss = 0.6057560880947387\n"
          ]
        }
      ],
      "source": [
        "''' compute different metric values on testing dataset'''\n",
        "from flaml.ml import sklearn_metric_loss_score\n",
        "print('accuracy', '=', 1 - sklearn_metric_loss_score('accuracy', y_pred, y_test))\n",
        "print('roc_auc', '=', 1 - sklearn_metric_loss_score('roc_auc', y_pred_proba, y_test))\n",
        "print('log_loss', '=', sklearn_metric_loss_score('log_loss', y_pred_proba, y_test))"
      ]
    },
    {
      "cell_type": "markdown",
      "metadata": {
        "id": "WBJfutTBtQec"
      },
      "source": [
        "See Section 4 for an accuracy comparison with default LightGBM and XGBoost.\n",
        "\n",
        "### Log history"
      ]
    },
    {
      "cell_type": "code",
      "execution_count": 25,
      "metadata": {
        "tags": [],
        "id": "-dzW7kH5tQec",
        "outputId": "0d28c419-9742-4caf-f30c-24938d506c1a",
        "colab": {
          "base_uri": "https://localhost:8080/"
        }
      },
      "outputs": [
        {
          "output_type": "stream",
          "name": "stdout",
          "text": [
            "{'Current Learner': 'lgbm', 'Current Sample': 10000, 'Current Hyper-parameters': {'n_estimators': 4, 'num_leaves': 4, 'min_child_samples': 20, 'learning_rate': 0.09999999999999995, 'log_max_bin': 8, 'colsample_bytree': 1.0, 'reg_alpha': 0.0009765625, 'reg_lambda': 1.0, 'FLAML_sample_size': 10000}, 'Best Learner': 'lgbm', 'Best Hyper-parameters': {'n_estimators': 4, 'num_leaves': 4, 'min_child_samples': 20, 'learning_rate': 0.09999999999999995, 'log_max_bin': 8, 'colsample_bytree': 1.0, 'reg_alpha': 0.0009765625, 'reg_lambda': 1.0, 'FLAML_sample_size': 10000}}\n",
            "{'Current Learner': 'lgbm', 'Current Sample': 10000, 'Current Hyper-parameters': {'n_estimators': 26, 'num_leaves': 4, 'min_child_samples': 18, 'learning_rate': 0.2293009676418639, 'log_max_bin': 9, 'colsample_bytree': 0.9086551727646448, 'reg_alpha': 0.0015561782752413472, 'reg_lambda': 0.33127416269768944, 'FLAML_sample_size': 10000}, 'Best Learner': 'lgbm', 'Best Hyper-parameters': {'n_estimators': 26, 'num_leaves': 4, 'min_child_samples': 18, 'learning_rate': 0.2293009676418639, 'log_max_bin': 9, 'colsample_bytree': 0.9086551727646448, 'reg_alpha': 0.0015561782752413472, 'reg_lambda': 0.33127416269768944, 'FLAML_sample_size': 10000}}\n",
            "{'Current Learner': 'xgboost', 'Current Sample': 10000, 'Current Hyper-parameters': {'n_estimators': 129, 'max_leaves': 4, 'min_child_weight': 1.2498964566809219, 'learning_rate': 0.3574837022388901, 'subsample': 0.9773266280674643, 'colsample_bylevel': 0.9705283362807284, 'colsample_bytree': 0.8561269216168275, 'reg_alpha': 0.0021694711024901254, 'reg_lambda': 4.620219690690227, 'FLAML_sample_size': 10000}, 'Best Learner': 'xgboost', 'Best Hyper-parameters': {'n_estimators': 129, 'max_leaves': 4, 'min_child_weight': 1.2498964566809219, 'learning_rate': 0.3574837022388901, 'subsample': 0.9773266280674643, 'colsample_bylevel': 0.9705283362807284, 'colsample_bytree': 0.8561269216168275, 'reg_alpha': 0.0021694711024901254, 'reg_lambda': 4.620219690690227, 'FLAML_sample_size': 10000}}\n",
            "{'Current Learner': 'xgboost', 'Current Sample': 10000, 'Current Hyper-parameters': {'n_estimators': 28, 'max_leaves': 5, 'min_child_weight': 0.7500252416342552, 'learning_rate': 0.23798984382572066, 'subsample': 1.0, 'colsample_bylevel': 0.9045613143846261, 'colsample_bytree': 1.0, 'reg_alpha': 0.0009765625, 'reg_lambda': 0.48864254576029176, 'FLAML_sample_size': 10000}, 'Best Learner': 'xgboost', 'Best Hyper-parameters': {'n_estimators': 28, 'max_leaves': 5, 'min_child_weight': 0.7500252416342552, 'learning_rate': 0.23798984382572066, 'subsample': 1.0, 'colsample_bylevel': 0.9045613143846261, 'colsample_bytree': 1.0, 'reg_alpha': 0.0009765625, 'reg_lambda': 0.48864254576029176, 'FLAML_sample_size': 10000}}\n",
            "{'Current Learner': 'lgbm', 'Current Sample': 40000, 'Current Hyper-parameters': {'n_estimators': 55, 'num_leaves': 4, 'min_child_samples': 20, 'learning_rate': 0.43653962213332903, 'log_max_bin': 10, 'colsample_bytree': 0.8048558760626646, 'reg_alpha': 0.0009765625, 'reg_lambda': 0.23010605579846408, 'FLAML_sample_size': 40000}, 'Best Learner': 'lgbm', 'Best Hyper-parameters': {'n_estimators': 55, 'num_leaves': 4, 'min_child_samples': 20, 'learning_rate': 0.43653962213332903, 'log_max_bin': 10, 'colsample_bytree': 0.8048558760626646, 'reg_alpha': 0.0009765625, 'reg_lambda': 0.23010605579846408, 'FLAML_sample_size': 40000}}\n",
            "{'Current Learner': 'lgbm', 'Current Sample': 40000, 'Current Hyper-parameters': {'n_estimators': 90, 'num_leaves': 18, 'min_child_samples': 34, 'learning_rate': 0.35726266205297247, 'log_max_bin': 10, 'colsample_bytree': 0.9295656128173544, 'reg_alpha': 0.0009765625, 'reg_lambda': 0.1981463604305675, 'FLAML_sample_size': 40000}, 'Best Learner': 'lgbm', 'Best Hyper-parameters': {'n_estimators': 90, 'num_leaves': 18, 'min_child_samples': 34, 'learning_rate': 0.35726266205297247, 'log_max_bin': 10, 'colsample_bytree': 0.9295656128173544, 'reg_alpha': 0.0009765625, 'reg_lambda': 0.1981463604305675, 'FLAML_sample_size': 40000}}\n",
            "{'Current Learner': 'lgbm', 'Current Sample': 40000, 'Current Hyper-parameters': {'n_estimators': 56, 'num_leaves': 7, 'min_child_samples': 92, 'learning_rate': 0.23536463281405448, 'log_max_bin': 10, 'colsample_bytree': 0.9898009552962395, 'reg_alpha': 0.0009765625, 'reg_lambda': 0.14329426172643311, 'FLAML_sample_size': 40000}, 'Best Learner': 'lgbm', 'Best Hyper-parameters': {'n_estimators': 56, 'num_leaves': 7, 'min_child_samples': 92, 'learning_rate': 0.23536463281405448, 'log_max_bin': 10, 'colsample_bytree': 0.9898009552962395, 'reg_alpha': 0.0009765625, 'reg_lambda': 0.14329426172643311, 'FLAML_sample_size': 40000}}\n",
            "{'Current Learner': 'catboost', 'Current Sample': 40000, 'Current Hyper-parameters': {'early_stopping_rounds': 10, 'learning_rate': 0.09999999999999996, 'n_estimators': 99, 'FLAML_sample_size': 40000}, 'Best Learner': 'catboost', 'Best Hyper-parameters': {'early_stopping_rounds': 10, 'learning_rate': 0.09999999999999996, 'n_estimators': 99, 'FLAML_sample_size': 40000}}\n",
            "{'Current Learner': 'catboost', 'Current Sample': 40000, 'Current Hyper-parameters': {'early_stopping_rounds': 10, 'learning_rate': 0.2, 'n_estimators': 52, 'FLAML_sample_size': 40000}, 'Best Learner': 'catboost', 'Best Hyper-parameters': {'early_stopping_rounds': 10, 'learning_rate': 0.2, 'n_estimators': 52, 'FLAML_sample_size': 40000}}\n",
            "{'Current Learner': 'catboost', 'Current Sample': 364083, 'Current Hyper-parameters': {'early_stopping_rounds': 10, 'learning_rate': 0.2, 'n_estimators': 60, 'FLAML_sample_size': 364083}, 'Best Learner': 'catboost', 'Best Hyper-parameters': {'early_stopping_rounds': 10, 'learning_rate': 0.2, 'n_estimators': 60, 'FLAML_sample_size': 364083}}\n",
            "{'Current Learner': 'lgbm', 'Current Sample': 364083, 'Current Hyper-parameters': {'n_estimators': 180, 'num_leaves': 31, 'min_child_samples': 112, 'learning_rate': 0.14172261747380896, 'log_max_bin': 8, 'colsample_bytree': 0.9882716197099741, 'reg_alpha': 0.004676080321450302, 'reg_lambda': 2.704862827036818, 'FLAML_sample_size': 364083}, 'Best Learner': 'lgbm', 'Best Hyper-parameters': {'n_estimators': 180, 'num_leaves': 31, 'min_child_samples': 112, 'learning_rate': 0.14172261747380896, 'log_max_bin': 8, 'colsample_bytree': 0.9882716197099741, 'reg_alpha': 0.004676080321450302, 'reg_lambda': 2.704862827036818, 'FLAML_sample_size': 364083}}\n",
            "{'Current Learner': 'lgbm', 'Current Sample': 364083, 'Current Hyper-parameters': {'n_estimators': 284, 'num_leaves': 24, 'min_child_samples': 57, 'learning_rate': 0.34506374431782694, 'log_max_bin': 8, 'colsample_bytree': 0.9661606582789269, 'reg_alpha': 0.05708594148438563, 'reg_lambda': 3.0806435484123478, 'FLAML_sample_size': 364083}, 'Best Learner': 'lgbm', 'Best Hyper-parameters': {'n_estimators': 284, 'num_leaves': 24, 'min_child_samples': 57, 'learning_rate': 0.34506374431782694, 'log_max_bin': 8, 'colsample_bytree': 0.9661606582789269, 'reg_alpha': 0.05708594148438563, 'reg_lambda': 3.0806435484123478, 'FLAML_sample_size': 364083}}\n"
          ]
        }
      ],
      "source": [
        "from flaml.data import get_output_from_log\n",
        "time_history, best_valid_loss_history, valid_loss_history, config_history, metric_history = \\\n",
        "    get_output_from_log(filename=settings['log_file_name'], time_budget=240)\n",
        "for config in config_history:\n",
        "    print(config)"
      ]
    },
    {
      "cell_type": "code",
      "execution_count": 26,
      "metadata": {
        "id": "U1snxi4otQec",
        "outputId": "03b302d8-ccc5-4df4-c216-c7d3e774d232",
        "colab": {
          "base_uri": "https://localhost:8080/",
          "height": 295
        }
      },
      "outputs": [
        {
          "output_type": "display_data",
          "data": {
            "image/png": "[encoded data removed]",
            "text/plain": [
              "<Figure size 432x288 with 1 Axes>"
            ]
          },
          "metadata": {
            "needs_background": "light"
          }
        }
      ],
      "source": [
        "import matplotlib.pyplot as plt\n",
        "import numpy as np\n",
        "\n",
        "plt.title('Learning Curve')\n",
        "plt.xlabel('Wall Clock Time (s)')\n",
        "plt.ylabel('Validation Accuracy')\n",
        "plt.scatter(time_history, 1 - np.array(valid_loss_history))\n",
        "plt.step(time_history, 1 - np.array(best_valid_loss_history), where='post')\n",
        "plt.show()"
      ]
    },
    {
      "cell_type": "markdown",
      "metadata": {
        "id": "cVd6QQ1StQed"
      },
      "source": [
        "## 3. Comparison with alternatives\n"
      ]
    },
    {
      "cell_type": "markdown",
      "metadata": {
        "id": "EJxZyBO4tQed"
      },
      "source": [
        "### Default LightGBM"
      ]
    },
    {
      "cell_type": "code",
      "execution_count": 27,
      "metadata": {
        "id": "Qp2YzPsktQed"
      },
      "outputs": [],
      "source": [
        "from lightgbm import LGBMClassifier\n",
        "lgbm = LGBMClassifier()"
      ]
    },
    {
      "cell_type": "code",
      "execution_count": 28,
      "metadata": {
        "id": "CFgyBfh6tQee",
        "outputId": "38534af8-c11d-4810-9c5a-a8a252b917e2",
        "colab": {
          "base_uri": "https://localhost:8080/"
        }
      },
      "outputs": [
        {
          "output_type": "execute_result",
          "data": {
            "text/plain": [
              "LGBMClassifier()"
            ]
          },
          "metadata": {},
          "execution_count": 28
        }
      ],
      "source": [
        "lgbm.fit(X_train, y_train)"
      ]
    },
    {
      "cell_type": "code",
      "execution_count": 29,
      "metadata": {
        "id": "iZeEXp-7tQee"
      },
      "outputs": [],
      "source": [
        "y_pred_lgbm = lgbm.predict(X_test)"
      ]
    },
    {
      "cell_type": "markdown",
      "metadata": {
        "id": "8wzNQHgLtQee"
      },
      "source": [
        "### Default XGBoost"
      ]
    },
    {
      "cell_type": "code",
      "execution_count": 30,
      "metadata": {
        "id": "IjTC8d9ktQee"
      },
      "outputs": [],
      "source": [
        "from xgboost import XGBClassifier\n",
        "xgb = XGBClassifier()\n",
        "cat_columns = X_train.select_dtypes(include=['category']).columns\n",
        "X = X_train.copy()\n",
        "X[cat_columns] = X[cat_columns].apply(lambda x: x.cat.codes)\n"
      ]
    },
    {
      "cell_type": "code",
      "execution_count": 31,
      "metadata": {
        "id": "d0dby2t1tQef",
        "outputId": "49aa8532-52aa-4da5-88ac-8ece9a63c52a",
        "colab": {
          "base_uri": "https://localhost:8080/"
        }
      },
      "outputs": [
        {
          "output_type": "execute_result",
          "data": {
            "text/plain": [
              "XGBClassifier()"
            ]
          },
          "metadata": {},
          "execution_count": 31
        }
      ],
      "source": [
        "xgb.fit(X, y_train)"
      ]
    },
    {
      "cell_type": "code",
      "execution_count": 32,
      "metadata": {
        "id": "wveaksEbtQef"
      },
      "outputs": [],
      "source": [
        "X = X_test.copy()\n",
        "X[cat_columns] = X[cat_columns].apply(lambda x: x.cat.codes)\n",
        "y_pred_xgb = xgb.predict(X)"
      ]
    },
    {
      "cell_type": "code",
      "execution_count": 33,
      "metadata": {
        "id": "GQminTv5tQef",
        "outputId": "f54b652e-ebdc-4591-ac88-eb1fc17e17b4",
        "colab": {
          "base_uri": "https://localhost:8080/"
        }
      },
      "outputs": [
        {
          "output_type": "stream",
          "name": "stdout",
          "text": [
            "default xgboost accuracy = 0.6492369072868309\n",
            "default lgbm accuracy = 0.6602346380315323\n",
            "flaml (4min) accuracy = 0.6700903252599262\n"
          ]
        }
      ],
      "source": [
        "print('default xgboost accuracy', '=', 1 - sklearn_metric_loss_score('accuracy', y_pred_xgb, y_test))\n",
        "print('default lgbm accuracy', '=', 1 - sklearn_metric_loss_score('accuracy', y_pred_lgbm, y_test))\n",
        "print('flaml (4min) accuracy', '=', 1 - sklearn_metric_loss_score('accuracy', y_pred, y_test))"
      ]
    },
    {
      "cell_type": "markdown",
      "metadata": {
        "id": "V6Fy1UZXtQef"
      },
      "source": [
        "## 4. Customized Learner"
      ]
    },
    {
      "cell_type": "markdown",
      "metadata": {
        "id": "WYdW8eUdtQef"
      },
      "source": [
        "Some experienced automl users may have a preferred model to tune or may already have a reasonably by-hand-tuned model before launching the automl experiment. They need to select optimal configurations for the customized model mixed with standard built-in learners. \n",
        "\n",
        "FLAML can easily incorporate customized/new learners (preferably with sklearn API) provided by users in a real-time manner, as demonstrated below."
      ]
    },
    {
      "cell_type": "markdown",
      "metadata": {
        "id": "8OvJRVnxtQeg"
      },
      "source": [
        "### Example of Regularized Greedy Forest\n",
        "\n",
        "[Regularized Greedy Forest](https://arxiv.org/abs/1109.0887) (RGF) is a machine learning method currently not included in FLAML. The RGF has many tuning parameters, the most critical of which are: `[max_leaf, n_iter, n_tree_search, opt_interval, min_samples_leaf]`. To run a customized/new learner, the user needs to provide the following information:\n",
        "* an implementation of the customized/new learner\n",
        "* a list of hyperparameter names and types\n",
        "* rough ranges of hyperparameters (i.e., upper/lower bounds)\n",
        "* choose initial value corresponding to low cost for cost-related hyperparameters (e.g., initial value for max_leaf and n_iter should be small)\n",
        "\n",
        "In this example, the above information for RGF is wrapped in a python class called *MyRegularizedGreedyForest* that exposes the hyperparameters."
      ]
    },
    {
      "cell_type": "code",
      "execution_count": 34,
      "metadata": {
        "id": "-LApPo3xtQeg"
      },
      "outputs": [],
      "source": [
        "''' SKLearnEstimator is the super class for a sklearn learner '''\n",
        "from flaml.model import SKLearnEstimator\n",
        "from flaml import tune\n",
        "from flaml.data import CLASSIFICATION\n",
        "\n",
        "\n",
        "class MyRegularizedGreedyForest(SKLearnEstimator):\n",
        "    def __init__(self, task='binary', **config):\n",
        "        '''Constructor\n",
        "        \n",
        "        Args:\n",
        "            task: A string of the task type, one of\n",
        "                'binary', 'multi', 'regression'\n",
        "            config: A dictionary containing the hyperparameter names\n",
        "                and 'n_jobs' as keys. n_jobs is the number of parallel threads.\n",
        "        '''\n",
        "\n",
        "        super().__init__(task, **config)\n",
        "\n",
        "        '''task=binary or multi for classification task'''\n",
        "        if task in CLASSIFICATION:\n",
        "            from rgf.sklearn import RGFClassifier\n",
        "\n",
        "            self.estimator_class = RGFClassifier\n",
        "        else:\n",
        "            from rgf.sklearn import RGFRegressor\n",
        "            \n",
        "            self.estimator_class = RGFRegressor\n",
        "\n",
        "    @classmethod\n",
        "    def search_space(cls, data_size, task):\n",
        "        '''[required method] search space\n",
        "\n",
        "        Returns:\n",
        "            A dictionary of the search space. \n",
        "            Each key is the name of a hyperparameter, and value is a dict with\n",
        "                its domain (required) and low_cost_init_value, init_value,\n",
        "                cat_hp_cost (if applicable).\n",
        "                e.g.,\n",
        "                {'domain': tune.randint(lower=1, upper=10), 'init_value': 1}.\n",
        "        '''\n",
        "        space = {        \n",
        "            'max_leaf': {'domain': tune.lograndint(lower=4, upper=data_size[0]), 'init_value': 4, 'low_cost_init_value': 4},\n",
        "            'n_iter': {'domain': tune.lograndint(lower=1, upper=data_size[0]), 'init_value': 1, 'low_cost_init_value': 1},\n",
        "            'n_tree_search': {'domain': tune.lograndint(lower=1, upper=32768), 'init_value': 1, 'low_cost_init_value': 1},\n",
        "            'opt_interval': {'domain': tune.lograndint(lower=1, upper=10000), 'init_value': 100},\n",
        "            'learning_rate': {'domain': tune.loguniform(lower=0.01, upper=20.0)},\n",
        "            'min_samples_leaf': {'domain': tune.lograndint(lower=1, upper=20), 'init_value': 20},\n",
        "        }\n",
        "        return space\n",
        "\n",
        "    @classmethod\n",
        "    def size(cls, config):\n",
        "        '''[optional method] memory size of the estimator in bytes\n",
        "        \n",
        "        Args:\n",
        "            config - the dict of the hyperparameter config\n",
        "\n",
        "        Returns:\n",
        "            A float of the memory size required by the estimator to train the\n",
        "            given config\n",
        "        '''\n",
        "        max_leaves = int(round(config['max_leaf']))\n",
        "        n_estimators = int(round(config['n_iter']))\n",
        "        return (max_leaves * 3 + (max_leaves - 1) * 4 + 1.0) * n_estimators * 8\n",
        "\n",
        "    @classmethod\n",
        "    def cost_relative2lgbm(cls):\n",
        "        '''[optional method] relative cost compared to lightgbm\n",
        "        '''\n",
        "        return 1.0\n"
      ]
    },
    {
      "cell_type": "markdown",
      "metadata": {
        "id": "4ZGK8Qx7tQeh"
      },
      "source": [
        "### Add Customized Learner and Run FLAML AutoML\n",
        "\n",
        "After adding RGF into the list of learners, we run automl by tuning hyperpameters of RGF as well as the default learners. "
      ]
    },
    {
      "cell_type": "code",
      "execution_count": 35,
      "metadata": {
        "id": "ds58YgbvtQeh"
      },
      "outputs": [],
      "source": [
        "automl = AutoML()\n",
        "automl.add_learner(learner_name='RGF', learner_class=MyRegularizedGreedyForest)"
      ]
    },
    {
      "cell_type": "code",
      "execution_count": 36,
      "metadata": {
        "tags": [],
        "id": "zdoCb4qbtQeh",
        "outputId": "20da6df8-49bd-4267-86c4-7516a9f253f4",
        "colab": {
          "base_uri": "https://localhost:8080/"
        }
      },
      "outputs": [
        {
          "output_type": "stream",
          "name": "stderr",
          "text": [
            "[flaml.automl: 01-08 13:40:45] {2015} INFO - task = classification\n",
            "[flaml.automl: 01-08 13:40:45] {2017} INFO - Data split method: stratified\n",
            "[flaml.automl: 01-08 13:40:45] {2021} INFO - Evaluation method: holdout\n",
            "[flaml.automl: 01-08 13:40:46] {2120} INFO - Minimizing error metric: 1-accuracy\n",
            "[flaml.automl: 01-08 13:40:46] {2176} INFO - List of ML learners in AutoML Run: ['RGF', 'lgbm', 'rf', 'xgboost']\n",
            "[flaml.automl: 01-08 13:40:46] {2433} INFO - iteration 0, current learner RGF\n",
            "[flaml.automl: 01-08 13:40:47] {2547} INFO - Estimated sufficient time budget=345226s. Estimated necessary time budget=345s.\n",
            "[flaml.automl: 01-08 13:40:47] {2598} INFO -  at 2.1s,\testimator RGF's best error=0.3840,\tbest estimator RGF's best error=0.3840\n",
            "[flaml.automl: 01-08 13:40:47] {2433} INFO - iteration 1, current learner RGF\n",
            "[flaml.automl: 01-08 13:40:47] {2598} INFO -  at 2.9s,\testimator RGF's best error=0.3840,\tbest estimator RGF's best error=0.3840\n",
            "[flaml.automl: 01-08 13:40:47] {2433} INFO - iteration 2, current learner RGF\n",
            "[flaml.automl: 01-08 13:40:48] {2598} INFO -  at 3.6s,\testimator RGF's best error=0.3840,\tbest estimator RGF's best error=0.3840\n",
            "[flaml.automl: 01-08 13:40:48] {2433} INFO - iteration 3, current learner lgbm\n",
            "[flaml.automl: 01-08 13:40:48] {2598} INFO -  at 3.7s,\testimator lgbm's best error=0.3777,\tbest estimator lgbm's best error=0.3777\n",
            "[flaml.automl: 01-08 13:40:48] {2433} INFO - iteration 4, current learner RGF\n",
            "[flaml.automl: 01-08 13:40:49] {2598} INFO -  at 4.6s,\testimator RGF's best error=0.3840,\tbest estimator lgbm's best error=0.3777\n",
            "[flaml.automl: 01-08 13:40:49] {2433} INFO - iteration 5, current learner lgbm\n",
            "[flaml.automl: 01-08 13:40:49] {2598} INFO -  at 4.7s,\testimator lgbm's best error=0.3777,\tbest estimator lgbm's best error=0.3777\n",
            "[flaml.automl: 01-08 13:40:49] {2433} INFO - iteration 6, current learner lgbm\n",
            "[flaml.automl: 01-08 13:40:49] {2598} INFO -  at 4.8s,\testimator lgbm's best error=0.3777,\tbest estimator lgbm's best error=0.3777\n",
            "[flaml.automl: 01-08 13:40:49] {2433} INFO - iteration 7, current learner lgbm\n",
            "[flaml.automl: 01-08 13:40:49] {2598} INFO -  at 4.9s,\testimator lgbm's best error=0.3777,\tbest estimator lgbm's best error=0.3777\n",
            "[flaml.automl: 01-08 13:40:49] {2433} INFO - iteration 8, current learner lgbm\n",
            "[flaml.automl: 01-08 13:40:50] {2598} INFO -  at 5.0s,\testimator lgbm's best error=0.3777,\tbest estimator lgbm's best error=0.3777\n",
            "[flaml.automl: 01-08 13:40:50] {2433} INFO - iteration 9, current learner lgbm\n",
            "[flaml.automl: 01-08 13:40:50] {2598} INFO -  at 5.1s,\testimator lgbm's best error=0.3765,\tbest estimator lgbm's best error=0.3765\n",
            "[flaml.automl: 01-08 13:40:50] {2433} INFO - iteration 10, current learner lgbm\n",
            "[flaml.automl: 01-08 13:40:50] {2598} INFO -  at 5.3s,\testimator lgbm's best error=0.3765,\tbest estimator lgbm's best error=0.3765\n",
            "[flaml.automl: 01-08 13:40:50] {2433} INFO - iteration 11, current learner lgbm\n",
            "[flaml.automl: 01-08 13:40:50] {2598} INFO -  at 5.4s,\testimator lgbm's best error=0.3765,\tbest estimator lgbm's best error=0.3765\n",
            "[flaml.automl: 01-08 13:40:50] {2433} INFO - iteration 12, current learner lgbm\n",
            "[flaml.automl: 01-08 13:40:50] {2598} INFO -  at 5.6s,\testimator lgbm's best error=0.3765,\tbest estimator lgbm's best error=0.3765\n",
            "[flaml.automl: 01-08 13:40:50] {2433} INFO - iteration 13, current learner lgbm\n",
            "[flaml.automl: 01-08 13:40:50] {2598} INFO -  at 5.8s,\testimator lgbm's best error=0.3750,\tbest estimator lgbm's best error=0.3750\n",
            "[flaml.automl: 01-08 13:40:50] {2433} INFO - iteration 14, current learner RGF\n",
            "[flaml.automl: 01-08 13:40:51] {2598} INFO -  at 6.6s,\testimator RGF's best error=0.3840,\tbest estimator lgbm's best error=0.3750\n",
            "[flaml.automl: 01-08 13:40:51] {2433} INFO - iteration 15, current learner lgbm\n",
            "[flaml.automl: 01-08 13:40:51] {2598} INFO -  at 6.7s,\testimator lgbm's best error=0.3750,\tbest estimator lgbm's best error=0.3750\n",
            "[flaml.automl: 01-08 13:40:51] {2433} INFO - iteration 16, current learner RGF\n",
            "[flaml.automl: 01-08 13:40:52] {2598} INFO -  at 7.5s,\testimator RGF's best error=0.3766,\tbest estimator lgbm's best error=0.3750\n",
            "[flaml.automl: 01-08 13:40:52] {2433} INFO - iteration 17, current learner lgbm\n",
            "[flaml.automl: 01-08 13:40:52] {2598} INFO -  at 7.7s,\testimator lgbm's best error=0.3750,\tbest estimator lgbm's best error=0.3750\n",
            "[flaml.automl: 01-08 13:40:52] {2433} INFO - iteration 18, current learner lgbm\n",
            "[flaml.automl: 01-08 13:40:52] {2598} INFO -  at 7.8s,\testimator lgbm's best error=0.3750,\tbest estimator lgbm's best error=0.3750\n",
            "[flaml.automl: 01-08 13:40:52] {2433} INFO - iteration 19, current learner lgbm\n",
            "[flaml.automl: 01-08 13:40:53] {2598} INFO -  at 8.0s,\testimator lgbm's best error=0.3750,\tbest estimator lgbm's best error=0.3750\n",
            "[flaml.automl: 01-08 13:40:53] {2433} INFO - iteration 20, current learner RGF\n",
            "[flaml.automl: 01-08 13:40:53] {2598} INFO -  at 8.8s,\testimator RGF's best error=0.3766,\tbest estimator lgbm's best error=0.3750\n",
            "[flaml.automl: 01-08 13:40:53] {2433} INFO - iteration 21, current learner lgbm\n",
            "[flaml.automl: 01-08 13:40:53] {2598} INFO -  at 8.9s,\testimator lgbm's best error=0.3750,\tbest estimator lgbm's best error=0.3750\n",
            "[flaml.automl: 01-08 13:40:53] {2433} INFO - iteration 22, current learner lgbm\n",
            "[flaml.automl: 01-08 13:40:54] {2598} INFO -  at 9.1s,\testimator lgbm's best error=0.3750,\tbest estimator lgbm's best error=0.3750\n",
            "[flaml.automl: 01-08 13:40:54] {2433} INFO - iteration 23, current learner lgbm\n",
            "[flaml.automl: 01-08 13:40:54] {2598} INFO -  at 9.8s,\testimator lgbm's best error=0.3750,\tbest estimator lgbm's best error=0.3750\n",
            "[flaml.automl: 01-08 13:40:54] {2433} INFO - iteration 24, current learner xgboost\n",
            "[flaml.automl: 01-08 13:40:54] {2598} INFO -  at 9.9s,\testimator xgboost's best error=0.3800,\tbest estimator lgbm's best error=0.3750\n",
            "[flaml.automl: 01-08 13:40:54] {2433} INFO - iteration 25, current learner xgboost\n",
            "[flaml.automl: 01-08 13:40:55] {2598} INFO -  at 9.9s,\testimator xgboost's best error=0.3800,\tbest estimator lgbm's best error=0.3750\n",
            "[flaml.automl: 01-08 13:40:55] {2433} INFO - iteration 26, current learner rf\n",
            "[flaml.automl: 01-08 13:40:55] {2598} INFO -  at 10.1s,\testimator rf's best error=0.3787,\tbest estimator lgbm's best error=0.3750\n",
            "[flaml.automl: 01-08 13:40:56] {2811} INFO - retrain lgbm for 0.9s\n",
            "[flaml.automl: 01-08 13:40:56] {2816} INFO - retrained model: LGBMClassifier(colsample_bytree=0.930646190497405,\n",
            "               learning_rate=0.05523911372749034, max_bin=255,\n",
            "               min_child_samples=15, n_estimators=15, num_leaves=4,\n",
            "               reg_alpha=0.0009765625, reg_lambda=0.19364742058347253,\n",
            "               verbose=-1)\n",
            "[flaml.automl: 01-08 13:40:56] {2205} INFO - fit succeeded\n",
            "[flaml.automl: 01-08 13:40:56] {2207} INFO - Time taken to find the best model: 5.786754131317139\n"
          ]
        }
      ],
      "source": [
        "settings = {\n",
        "    \"time_budget\": 10,  # total running time in seconds\n",
        "    \"metric\": 'accuracy', \n",
        "    \"estimator_list\": ['RGF', 'lgbm', 'rf', 'xgboost'],  # list of ML learners\n",
        "    \"task\": 'classification',  # task type    \n",
        "    \"log_file_name\": 'airlines_experiment_custom_learner.log',  # flaml log file \n",
        "    \"log_training_metric\": True,  # whether to log training metric\n",
        "}\n",
        "\n",
        "automl.fit(X_train = X_train, y_train = y_train, **settings)"
      ]
    },
    {
      "cell_type": "markdown",
      "metadata": {
        "id": "87saTFNAtQei"
      },
      "source": [
        "## 5. Customized Metric\n",
        "\n",
        "It's also easy to customize the optimization metric. As an example, we demonstrate with a custom metric function which combines training loss and validation loss as the final loss to minimize."
      ]
    },
    {
      "cell_type": "code",
      "execution_count": null,
      "metadata": {
        "id": "ZMNN82SgtQei"
      },
      "outputs": [],
      "source": [
        "def custom_metric(X_val, y_val, estimator, labels, X_train, y_train,\n",
        "                  weight_val=None, weight_train=None, config=None,\n",
        "                  groups_val=None, groups_train=None):\n",
        "    from sklearn.metrics import log_loss\n",
        "    import time\n",
        "    start = time.time()\n",
        "    y_pred = estimator.predict_proba(X_val)\n",
        "    pred_time = (time.time() - start) / len(X_val)\n",
        "    val_loss = log_loss(y_val, y_pred, labels=labels,\n",
        "                         sample_weight=weight_val)\n",
        "    y_pred = estimator.predict_proba(X_train)\n",
        "    train_loss = log_loss(y_train, y_pred, labels=labels,\n",
        "                          sample_weight=weight_train)\n",
        "    alpha = 0.5\n",
        "    return val_loss * (1 + alpha) - alpha * train_loss, {\n",
        "        \"val_loss\": val_loss, \"train_loss\": train_loss, \"pred_time\": pred_time\n",
        "    }\n",
        "    # two elements are returned:\n",
        "    # the first element is the metric to minimize as a float number,\n",
        "    # the second element is a dictionary of the metrics to log"
      ]
    },
    {
      "cell_type": "markdown",
      "metadata": {
        "id": "o5VEGhS_tQei"
      },
      "source": [
        "We can then pass this custom metric function to automl's `fit` method."
      ]
    },
    {
      "cell_type": "code",
      "execution_count": null,
      "metadata": {
        "id": "1gAMk3PVtQej"
      },
      "outputs": [],
      "source": [
        "automl = AutoML()\n",
        "settings = {\n",
        "    \"time_budget\": 10,  # total running time in seconds\n",
        "    \"metric\": custom_metric,  # pass the custom metric funtion here\n",
        "    \"task\": 'classification',  # task type\n",
        "    \"log_file_name\": 'airlines_experiment_custom_metric.log',  # flaml log file\n",
        "}\n",
        "\n",
        "automl.fit(X_train = X_train, y_train = y_train, **settings)"
      ]
    }
  ],
  "metadata": {
    "interpreter": {
      "hash": "e9d36fc5b7c3dd4177ff1b60184dd696c0acc18150a44682abca4d769811bd46"
    },
    "kernelspec": {
      "display_name": "Python 3.8.0 64-bit ('blend': conda)",
      "name": "python3"
    },
    "language_info": {
      "codemirror_mode": {
        "name": "ipython",
        "version": 3
      },
      "file_extension": ".py",
      "mimetype": "text/x-python",
      "name": "python",
      "nbconvert_exporter": "python",
      "pygments_lexer": "ipython3",
      "version": "3.9.7"
    },
    "colab": {
      "name": "automl_classification.ipynb",
      "provenance": []
    }
  },
  "nbformat": 4,
  "nbformat_minor": 0
}